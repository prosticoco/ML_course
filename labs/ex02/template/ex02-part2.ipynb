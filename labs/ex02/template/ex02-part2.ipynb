{
 "cells": [
  {
   "cell_type": "code",
   "execution_count": 4,
   "metadata": {},
   "outputs": [],
   "source": [
    "# Useful starting lines\n",
    "%matplotlib inline\n",
    "import numpy as np\n",
    "import matplotlib.pyplot as plt\n",
    "%load_ext autoreload\n",
    "%autoreload 2"
   ]
  },
  {
   "cell_type": "markdown",
   "metadata": {},
   "source": [
    "# Load the data"
   ]
  },
  {
   "cell_type": "code",
   "execution_count": 20,
   "metadata": {},
   "outputs": [],
   "source": [
    "import datetime\n",
    "from helpers import *\n",
    "\n",
    "height, weight, gender = load_data(sub_sample=True, add_outlier=True)\n",
    "x, mean_x, std_x = standardize(height)\n",
    "y, tx = build_model_data(x, weight)"
   ]
  },
  {
   "cell_type": "code",
   "execution_count": 21,
   "metadata": {},
   "outputs": [
    {
     "data": {
      "text/plain": [
       "((202,), (202, 2))"
      ]
     },
     "execution_count": 21,
     "metadata": {},
     "output_type": "execute_result"
    }
   ],
   "source": [
    "y.shape, tx.shape"
   ]
  },
  {
   "cell_type": "code",
   "execution_count": null,
   "metadata": {},
   "outputs": [],
   "source": []
  },
  {
   "cell_type": "markdown",
   "metadata": {},
   "source": [
    "# 1 Computing the Cost Function"
   ]
  },
  {
   "cell_type": "markdown",
   "metadata": {},
   "source": [
    "Fill in the `compute_loss` function below:\n",
    "<a id='compute_loss'></a>\n"
   ]
  },
  {
   "cell_type": "code",
   "execution_count": 22,
   "metadata": {},
   "outputs": [
    {
     "data": {
      "text/plain": [
       "442.3566317234336"
      ]
     },
     "execution_count": 22,
     "metadata": {},
     "output_type": "execute_result"
    }
   ],
   "source": [
    "def compute_error_vector(y,tx,w):\n",
    "    return y -np.dot(tx,w)\n",
    "\n",
    "\n",
    "def compute_loss(y, tx, w):\n",
    "    \"\"\"Calculate the loss.\n",
    "\n",
    "    You can calculate the loss using mse or mae.\n",
    "    \"\"\"\n",
    "    # ***************************************************\n",
    "    # INSERT YOUR CODE HERE\n",
    "    # TODO: compute loss by MSE\n",
    "    # ***************************************************\n",
    "    e = y - np.dot(tx,w)\n",
    "    return (1/2)*np.mean(e**2)\n",
    "\n",
    "compute_loss(y,tx,w)"
   ]
  },
  {
   "cell_type": "markdown",
   "metadata": {},
   "source": [
    "# 2 Grid Search\n",
    "\n",
    "Fill in the function `grid_search()` below:"
   ]
  },
  {
   "cell_type": "code",
   "execution_count": 23,
   "metadata": {},
   "outputs": [],
   "source": [
    "def grid_search(y, tx, w0, w1):\n",
    "    \"\"\"Algorithm for grid search.\"\"\"\n",
    "    losses = np.zeros((len(w0), len(w1)))\n",
    "    # ***************************************************\n",
    "    # INSERT YOUR CODE HERE\n",
    "    # TODO: compute loss for each combination of w0 and w1.\n",
    "    # ***************************************************\n",
    "    for i in range(len(w0)):\n",
    "        for j in range(len(w1)):\n",
    "            losses[i,j] = compute_loss(y,tx,np.array([w0[i],w1[j]]))\n",
    "    return losses"
   ]
  },
  {
   "cell_type": "markdown",
   "metadata": {},
   "source": [
    "Let us play with the grid search demo now!"
   ]
  },
  {
   "cell_type": "code",
   "execution_count": 24,
   "metadata": {},
   "outputs": [
    {
     "name": "stdout",
     "output_type": "stream",
     "text": [
      "Grid Search: loss*=66.17528250670827, w0*=73.57859531772576, w1*=10.535117056856194, execution time=1.098 seconds\n"
     ]
    },
    {
     "data": {
      "image/png": "[encoded data removed]",
      "text/plain": [
       "<Figure size 720x432 with 3 Axes>"
      ]
     },
     "metadata": {},
     "output_type": "display_data"
    }
   ],
   "source": [
    "from grid_search import generate_w, get_best_parameters\n",
    "from plots import grid_visualization\n",
    "\n",
    "# Generate the grid of parameters to be swept\n",
    "grid_w0, grid_w1 = generate_w(num_intervals=300)\n",
    "\n",
    "# Start the grid search\n",
    "start_time = datetime.datetime.now()\n",
    "grid_losses = grid_search(y, tx, grid_w0, grid_w1)\n",
    "\n",
    "# Select the best combinaison\n",
    "loss_star, w0_star, w1_star = get_best_parameters(grid_w0, grid_w1, grid_losses)\n",
    "end_time = datetime.datetime.now()\n",
    "execution_time = (end_time - start_time).total_seconds()\n",
    "\n",
    "# Print the results\n",
    "print(\"Grid Search: loss*={l}, w0*={w0}, w1*={w1}, execution time={t:.3f} seconds\".format(\n",
    "      l=loss_star, w0=w0_star, w1=w1_star, t=execution_time))\n",
    "\n",
    "# Plot the results\n",
    "fig = grid_visualization(grid_losses, grid_w0, grid_w1, mean_x, std_x, height, weight)\n",
    "fig.set_size_inches(10.0,6.0)\n",
    "fig.savefig(\"grid_plot\")  # Optional saving"
   ]
  },
  {
   "cell_type": "markdown",
   "metadata": {},
   "source": [
    "# 3 Gradient Descent"
   ]
  },
  {
   "cell_type": "markdown",
   "metadata": {},
   "source": [
    "Again, please fill in the functions `compute_gradient` below:"
   ]
  },
  {
   "cell_type": "code",
   "execution_count": 10,
   "metadata": {},
   "outputs": [
    {
     "name": "stdout",
     "output_type": "stream",
     "text": [
      "[26.36772754  5.52429512]\n",
      "[-23.63227246  -4.47570488]\n"
     ]
    }
   ],
   "source": [
    "def compute_gradient(y, tx, w):\n",
    "    \"\"\"Compute the gradient.\"\"\"\n",
    "    e = compute_error_vector(y,tx,w)\n",
    "    \n",
    "    # ***************************************************\n",
    "    # INSERT YOUR CODE HERE\n",
    "    # TODO: compute gradient and loss\n",
    "    # ***************************************************\n",
    "    return (-1/len(y))*tx.T.dot(e)\n",
    "w = np.array([100,20])\n",
    "w1 = np.array([50,10])\n",
    "print(compute_gradient(y,tx,w))\n",
    "print(compute_gradient(y,tx,w1))"
   ]
  },
  {
   "cell_type": "markdown",
   "metadata": {},
   "source": [
    "Please fill in the functions `gradient_descent` below:"
   ]
  },
  {
   "cell_type": "code",
   "execution_count": 11,
   "metadata": {},
   "outputs": [],
   "source": [
    "def gradient_descent(y, tx, initial_w, max_iters, gamma):\n",
    "    \"\"\"Gradient descent algorithm.\"\"\"\n",
    "    # Define parameters to store w and loss\n",
    "    ws = [initial_w]\n",
    "    losses = []\n",
    "    w = initial_w\n",
    "    for n_iter in range(max_iters):\n",
    "        # ***************************************************\n",
    "        # INSERT YOUR CODE HERE\n",
    "        # TODO: compute gradient and loss\n",
    "        # ***************************************************\n",
    "        loss = compute_loss(y,tx,w)\n",
    "        gradient = compute_gradient(y,tx,w)\n",
    "        # ***************************************************\n",
    "        # INSERT YOUR CODE HERE\n",
    "        # TODO: update w by gradient\n",
    "        # ***************************************************\n",
    "        w = w -gamma*gradient\n",
    "        # store w and loss\n",
    "        ws.append(w)\n",
    "        losses.append(loss)\n",
    "        print(\"Gradient Descent({bi}/{ti}): loss={l}, w0={w0}, w1={w1}\".format(\n",
    "              bi=n_iter, ti=max_iters - 1, l=loss, w0=w[0], w1=w[1]))\n",
    "\n",
    "    return losses, ws"
   ]
  },
  {
   "cell_type": "markdown",
   "metadata": {},
   "source": [
    "Test your gradient descent function through gradient descent demo shown below:"
   ]
  },
  {
   "cell_type": "code",
   "execution_count": 12,
   "metadata": {},
   "outputs": [
    {
     "name": "stdout",
     "output_type": "stream",
     "text": [
      "Gradient Descent(0/49): loss=2829.2722244384163, w0=7.3632272459731105, w1=1.4475704876437263\n",
      "Gradient Descent(1/49): loss=2294.302754409306, w0=13.990131767348917, w1=2.750383926523079\n",
      "Gradient Descent(2/49): loss=1860.9774836857268, w0=19.95434583658714, w1=3.922916021514496\n",
      "Gradient Descent(3/49): loss=1509.9840143996275, w0=25.32213849890154, w1=4.978194907006768\n",
      "Gradient Descent(4/49): loss=1225.6793042778875, w0=30.153151894984507, w1=5.927945903949812\n",
      "Gradient Descent(5/49): loss=995.3924890792775, w0=34.50106395145917, w1=6.7827218011985515\n",
      "Gradient Descent(6/49): loss=808.8601687684038, w0=38.41418480228637, w1=7.552020108722415\n",
      "Gradient Descent(7/49): loss=657.7689893165962, w0=41.935993568030845, w1=8.244388585493892\n",
      "Gradient Descent(8/49): loss=535.3851339606322, w0=45.105621457200876, w1=8.86752021458822\n",
      "Gradient Descent(9/49): loss=436.25421112230123, w0=47.9582865574539, w1=9.428338680773114\n",
      "Gradient Descent(10/49): loss=355.9581636232532, w0=50.52568514768163, w1=9.933075300339517\n",
      "Gradient Descent(11/49): loss=290.9183651490242, w0=52.83634387888658, w1=10.387338257949281\n",
      "Gradient Descent(12/49): loss=238.23612838489885, w0=54.915936736971034, w1=10.796174919798068\n",
      "Gradient Descent(13/49): loss=195.56351660595735, w0=56.787570309247045, w1=11.164127915461975\n",
      "Gradient Descent(14/49): loss=160.99870106501467, w0=58.47204052429545, w1=11.495285611559492\n",
      "Gradient Descent(15/49): loss=133.0012004768512, w0=59.98806371783902, w1=11.793327538047256\n",
      "Gradient Descent(16/49): loss=110.32322500043874, w0=61.352484592028226, w1=12.061565271886243\n",
      "Gradient Descent(17/49): loss=91.9540648645447, w0=62.58046337879851, w1=12.30297923234133\n",
      "Gradient Descent(18/49): loss=77.07504515447054, w0=63.68564428689177, w1=12.520251796750909\n",
      "Gradient Descent(19/49): loss=65.02303918931044, w0=64.68030710417571, w1=12.71579710471953\n",
      "Gradient Descent(20/49): loss=55.260914357530716, w0=65.57550363973125, w1=12.891787881891288\n",
      "Gradient Descent(21/49): loss=47.353593243789184, w0=66.38118052173124, w1=13.05017958134587\n",
      "Gradient Descent(22/49): loss=40.948663141658535, w0=67.10628971553123, w1=13.192732110854992\n",
      "Gradient Descent(23/49): loss=35.76066975893267, w0=67.75888798995122, w1=13.321029387413203\n",
      "Gradient Descent(24/49): loss=31.55839511892477, w0=68.34622643692921, w1=13.436496936315594\n",
      "Gradient Descent(25/49): loss=28.15455266051835, w0=68.87483103920941, w1=13.540417730327745\n",
      "Gradient Descent(26/49): loss=25.397440269209127, w0=69.35057518126158, w1=13.63394644493868\n",
      "Gradient Descent(27/49): loss=23.16417923224872, w0=69.77874490910853, w1=13.718122288088521\n",
      "Gradient Descent(28/49): loss=21.355237792310785, w0=70.16409766417078, w1=13.79388054692338\n",
      "Gradient Descent(29/49): loss=19.889995225961048, w0=70.51091514372682, w1=13.862062979874752\n",
      "Gradient Descent(30/49): loss=18.70314874721774, w0=70.82305087532725, w1=13.923427169530987\n",
      "Gradient Descent(31/49): loss=17.741803099435657, w0=71.10397303376764, w1=13.978654940221597\n",
      "Gradient Descent(32/49): loss=16.963113124732175, w0=71.356802976364, w1=14.028359933843147\n",
      "Gradient Descent(33/49): loss=16.332374245222365, w0=71.5843499247007, w1=14.073094428102541\n",
      "Gradient Descent(34/49): loss=15.821475752819424, w0=71.78914217820375, w1=14.113355472935996\n",
      "Gradient Descent(35/49): loss=15.407647973973035, w0=71.97345520635649, w1=14.149590413286106\n",
      "Gradient Descent(36/49): loss=15.07244747310745, w0=72.13933693169395, w1=14.182201859601205\n",
      "Gradient Descent(37/49): loss=14.80093506740635, w0=72.28863048449766, w1=14.211552161284795\n",
      "Gradient Descent(38/49): loss=14.581010018788453, w0=72.422994682021, w1=14.237967432800025\n",
      "Gradient Descent(39/49): loss=14.402870729407958, w0=72.54392245979201, w1=14.261741177163731\n",
      "Gradient Descent(40/49): loss=14.258577905009748, w0=72.65275745978593, w1=14.283137547091068\n",
      "Gradient Descent(41/49): loss=14.14170071724719, w0=72.75070895978045, w1=14.30239428002567\n",
      "Gradient Descent(42/49): loss=14.047030195159527, w0=72.83886530977551, w1=14.319725339666812\n",
      "Gradient Descent(43/49): loss=13.970347072268527, w0=72.91820602477108, w1=14.33532329334384\n",
      "Gradient Descent(44/49): loss=13.908233742726804, w0=72.98961266826709, w1=14.349361451653166\n",
      "Gradient Descent(45/49): loss=13.857921945798017, w0=73.05387864741348, w1=14.361995794131559\n",
      "Gradient Descent(46/49): loss=13.817169390285699, w0=73.11171802864524, w1=14.373366702362112\n",
      "Gradient Descent(47/49): loss=13.784159820320724, w0=73.16377347175383, w1=14.38360051976961\n",
      "Gradient Descent(48/49): loss=13.757422068649094, w0=73.21062337055156, w1=14.392810955436358\n",
      "Gradient Descent(49/49): loss=13.73576448979507, w0=73.25278827946951, w1=14.401100347536431\n",
      "Gradient Descent: execution time=0.015 seconds\n"
     ]
    }
   ],
   "source": [
    "# from gradient_descent import *\n",
    "from plots import gradient_descent_visualization\n",
    "\n",
    "# Define the parameters of the algorithm.\n",
    "max_iters = 50\n",
    "gamma = 0.1\n",
    "\n",
    "# Initialization\n",
    "w_initial = np.array([0, 0])\n",
    "\n",
    "# Start gradient descent.\n",
    "start_time = datetime.datetime.now()\n",
    "gradient_losses, gradient_ws = gradient_descent(y, tx, w_initial, max_iters, gamma)\n",
    "end_time = datetime.datetime.now()\n",
    "\n",
    "# Print result\n",
    "exection_time = (end_time - start_time).total_seconds()\n",
    "print(\"Gradient Descent: execution time={t:.3f} seconds\".format(t=exection_time))"
   ]
  },
  {
   "cell_type": "code",
   "execution_count": 13,
   "metadata": {},
   "outputs": [
    {
     "data": {
      "application/vnd.jupyter.widget-view+json": {
       "model_id": "732772455d4b42d699d45367c4cf80ca",
       "version_major": 2,
       "version_minor": 0
      },
      "text/plain": [
       "interactive(children=(IntSlider(value=1, description='n_iter', max=51, min=1), Output()), _dom_classes=('widge…"
      ]
     },
     "metadata": {},
     "output_type": "display_data"
    },
    {
     "data": {
      "text/plain": [
       "<function __main__.plot_figure(n_iter)>"
      ]
     },
     "execution_count": 13,
     "metadata": {},
     "output_type": "execute_result"
    }
   ],
   "source": [
    "# Time Visualization\n",
    "from ipywidgets import IntSlider, interact\n",
    "\n",
    "def plot_figure(n_iter):\n",
    "    fig = gradient_descent_visualization(\n",
    "        gradient_losses, gradient_ws, grid_losses, grid_w0, grid_w1, mean_x, std_x, height, weight, n_iter)\n",
    "    fig.set_size_inches(10.0, 6.0)\n",
    "\n",
    "interact(plot_figure, n_iter=IntSlider(min=1, max=len(gradient_ws)))"
   ]
  },
  {
   "cell_type": "markdown",
   "metadata": {},
   "source": [
    "# 4 Stochastic gradient descent"
   ]
  },
  {
   "cell_type": "code",
   "execution_count": 14,
   "metadata": {},
   "outputs": [
    {
     "name": "stdout",
     "output_type": "stream",
     "text": [
      "[54.42553893 71.28563111]\n",
      "[[ 1.         -0.80574606]\n",
      " [ 1.         -0.45318235]]\n"
     ]
    }
   ],
   "source": [
    "for minibatchy, minibatchx in batch_iter(y,tx,2):\n",
    "    print(minibatchy)\n",
    "    print(minibatchx)"
   ]
  },
  {
   "cell_type": "code",
   "execution_count": 15,
   "metadata": {},
   "outputs": [],
   "source": [
    "def compute_stoch_gradient(y, tx, w):\n",
    "    \"\"\"Compute a stochastic gradient from just few examples n and their corresponding y_n labels.\"\"\"\n",
    "    # ***************************************************\n",
    "    # INSERT YOUR CODE HERE\n",
    "    # TODO: implement stochastic gradient computation.It's same as the gradient descent.\n",
    "    # ***************************************************\n",
    "    e = compute_error_vector(y,tx,w)\n",
    "    return - tx.T.dot(e)/len(e)\n",
    "\n",
    "def stochastic_gradient_descent(\n",
    "        y, tx, initial_w, batch_size, max_iters, gamma):\n",
    "    \"\"\"Stochastic gradient descent algorithm.\"\"\"\n",
    "    \n",
    "    # ***************************************************\n",
    "    # INSERT YOUR CODE HERE\n",
    "    # TODO: implement stochastic gradient descent.\n",
    "    # ***************************************************\n",
    "    w = initial_w\n",
    "    ws = [initial_w]\n",
    "    losses = []\n",
    "    for n_iter in range(max_iters):\n",
    "        for y_batch, tx_batch in batch_iter(y,tx,batch_size=batch_size,num_batches=1):\n",
    "            grad = compute_stoch_gradient(y_batch,tx_batch,w)\n",
    "            w = w - gamma * grad\n",
    "            loss = compute_loss(y,tx,w)\n",
    "            ws.append(w)\n",
    "            losses.append(loss)\n",
    "        print(\"SGD({bi}/{ti}): loss={l}, w0={w0}, w1={w1}\".format(\n",
    "              bi=n_iter, ti=max_iters - 1, l=loss, w0=w[0], w1=w[1]))\n",
    "    return losses, ws"
   ]
  },
  {
   "cell_type": "code",
   "execution_count": 19,
   "metadata": {},
   "outputs": [
    {
     "name": "stdout",
     "output_type": "stream",
     "text": [
      "SGD(0/49): loss=1227.0859149008675, w0=28.755486457879755, w1=-5.845688735289522\n",
      "SGD(1/49): loss=563.8524990937821, w0=46.44010729421022, w1=-4.524407812058954\n",
      "SGD(2/49): loss=175.84615689127887, w0=59.16932539201689, w1=3.741246050953241\n",
      "SGD(3/49): loss=53.03123350985905, w0=66.01876037983902, w1=9.913903564892514\n",
      "SGD(4/49): loss=32.0871389184462, w0=67.91615237917483, w1=12.423053069990543\n",
      "SGD(5/49): loss=16.799255239864948, w0=71.12511706868773, w1=14.315041558138624\n",
      "SGD(6/49): loss=15.6276809430051, w0=72.83034510706952, w1=16.29927411943777\n",
      "SGD(7/49): loss=16.93180339830674, w0=72.57094803167642, w1=16.81029855242925\n",
      "SGD(8/49): loss=18.69619312912334, w0=72.48501382095417, w1=17.440382641549693\n",
      "SGD(9/49): loss=18.14424774463144, w0=71.01709267729895, w1=15.94623558736279\n",
      "SGD(10/49): loss=17.280267246251096, w0=71.82970445130525, w1=16.481798953108598\n",
      "SGD(11/49): loss=18.3830400246415, w0=71.28173831189055, w1=16.464221822825316\n",
      "SGD(12/49): loss=14.885497681039308, w0=72.31045984878772, w1=15.33415531797947\n",
      "SGD(13/49): loss=16.396804126502747, w0=71.7129857658144, w1=15.825918643406764\n",
      "SGD(14/49): loss=16.83941414589578, w0=71.44912365307742, w1=15.750781327773568\n",
      "SGD(15/49): loss=14.633965960773725, w0=72.22733837651109, w1=14.560690288766716\n",
      "SGD(16/49): loss=15.075656483126767, w0=72.97103445325759, w1=16.03365469655427\n",
      "SGD(17/49): loss=14.249458899482978, w0=73.48316188628107, w1=15.566490929155977\n",
      "SGD(18/49): loss=15.198250721493876, w0=72.74207151244278, w1=15.997931565662254\n",
      "SGD(19/49): loss=15.625772779249438, w0=73.24050332617396, w1=16.427932547956335\n",
      "SGD(20/49): loss=15.300979068120128, w0=74.30833248016923, w1=16.166276188733665\n",
      "SGD(21/49): loss=14.889355289693567, w0=74.53143681433197, w1=15.773142512609652\n",
      "SGD(22/49): loss=14.212571766604619, w0=73.69827114171144, w1=15.54056077473544\n",
      "SGD(23/49): loss=13.955782807186852, w0=72.95198863486728, w1=14.878085180325128\n",
      "SGD(24/49): loss=13.863790684666121, w0=73.39612817661525, w1=13.855263401486694\n",
      "SGD(25/49): loss=13.714945538287198, w0=73.73062191422713, w1=14.110535274293895\n",
      "SGD(26/49): loss=14.202438554399196, w0=74.67657056522266, w1=14.310027622054207\n",
      "SGD(27/49): loss=13.7974016572256, w0=73.9001618597666, w1=13.989732695387067\n",
      "SGD(28/49): loss=13.651974251005754, w0=73.76280588709318, w1=14.482021782903706\n",
      "SGD(29/49): loss=13.721924131338296, w0=73.98063909358858, w1=14.664435711347808\n",
      "SGD(30/49): loss=13.899499174667772, w0=74.05265196993636, w1=13.896559131663095\n",
      "SGD(31/49): loss=13.864098570291398, w0=74.0117994057799, w1=13.930464732316745\n",
      "SGD(32/49): loss=13.869444487257123, w0=74.12191724035544, w1=14.936429675288085\n",
      "SGD(33/49): loss=14.870398764677729, w0=74.80624353725334, w1=15.51287401184918\n",
      "SGD(34/49): loss=13.869131907459296, w0=74.01933027934534, w1=15.02486827302208\n",
      "SGD(35/49): loss=13.697529011401336, w0=73.960291047537, w1=14.5000401555848\n",
      "SGD(36/49): loss=14.32101058494474, w0=72.63906791358454, w1=15.082908529553533\n",
      "SGD(37/49): loss=14.22272521858195, w0=73.27443424117085, w1=13.460553349099321\n",
      "SGD(38/49): loss=14.769679404361604, w0=74.8304662349117, w1=13.571923452199792\n",
      "SGD(39/49): loss=13.67849817331577, w0=73.37581667753771, w1=14.54171362862803\n",
      "SGD(40/49): loss=13.805938954501265, w0=73.29360894235255, w1=14.934306346074944\n",
      "SGD(41/49): loss=14.367315970717453, w0=74.53391289337209, w1=13.678957208217525\n",
      "SGD(42/49): loss=13.860783219728841, w0=74.25309464861171, w1=14.697688268171433\n",
      "SGD(43/49): loss=13.982236322776787, w0=73.079578987478, w1=15.085731882590968\n",
      "SGD(44/49): loss=14.195111305283918, w0=72.64393014651056, w1=14.831418889965324\n",
      "SGD(45/49): loss=15.452807302695906, w0=72.15148057757575, w1=13.281552296533976\n",
      "SGD(46/49): loss=14.992637175961606, w0=72.90446832255576, w1=13.00305221311545\n",
      "SGD(47/49): loss=15.041558806779122, w0=72.94236901121985, w1=12.952457942337043\n",
      "SGD(48/49): loss=14.489168929044459, w0=72.76692464956541, w1=13.50480766123611\n",
      "SGD(49/49): loss=13.9690053659356, w0=74.432550289233, w1=14.372280969947223\n",
      "SGD: execution time=0.020 seconds\n"
     ]
    }
   ],
   "source": [
    "# from stochastic_gradient_descent import *\n",
    "\n",
    "# Define the parameters of the algorithm.\n",
    "max_iters = 50\n",
    "gamma = 0.4\n",
    "batch_size = 8\n",
    "\n",
    "# Initialization\n",
    "w_initial = np.array([0, 0])\n",
    "\n",
    "# Start SGD.\n",
    "start_time = datetime.datetime.now()\n",
    "sgd_losses, sgd_ws = stochastic_gradient_descent(\n",
    "    y, tx, w_initial, batch_size, max_iters, gamma)\n",
    "end_time = datetime.datetime.now()\n",
    "\n",
    "# Print result\n",
    "exection_time = (end_time - start_time).total_seconds()\n",
    "print(\"SGD: execution time={t:.3f} seconds\".format(t=exection_time))"
   ]
  },
  {
   "cell_type": "code",
   "execution_count": 17,
   "metadata": {},
   "outputs": [
    {
     "data": {
      "application/vnd.jupyter.widget-view+json": {
       "model_id": "8ba377eae752408f996528a2d9b2c551",
       "version_major": 2,
       "version_minor": 0
      },
      "text/plain": [
       "interactive(children=(IntSlider(value=1, description='n_iter', max=51, min=1), Output()), _dom_classes=('widge…"
      ]
     },
     "metadata": {},
     "output_type": "display_data"
    },
    {
     "data": {
      "text/plain": [
       "<function __main__.plot_figure(n_iter)>"
      ]
     },
     "execution_count": 17,
     "metadata": {},
     "output_type": "execute_result"
    }
   ],
   "source": [
    "# Time Visualization\n",
    "from ipywidgets import IntSlider, interact\n",
    "def plot_figure(n_iter):\n",
    "    fig = gradient_descent_visualization(\n",
    "        sgd_losses, sgd_ws, grid_losses, grid_w0, grid_w1, mean_x, std_x, height, weight, n_iter)\n",
    "    fig.set_size_inches(10.0, 6.0)\n",
    "\n",
    "interact(plot_figure, n_iter=IntSlider(min=1, max=len(gradient_ws)))"
   ]
  },
  {
   "cell_type": "markdown",
   "metadata": {},
   "source": [
    "# 5 Effect of Outliers and MAE Cost Function, and Subgradient Descent"
   ]
  },
  {
   "cell_type": "markdown",
   "metadata": {},
   "source": [
    "### Exercise 5\n",
    "\n",
    "Load and plot data containing outliers"
   ]
  },
  {
   "cell_type": "code",
   "execution_count": null,
   "metadata": {
    "collapsed": true
   },
   "outputs": [],
   "source": []
  },
  {
   "cell_type": "markdown",
   "metadata": {},
   "source": [
    "### Exercise 6"
   ]
  },
  {
   "cell_type": "markdown",
   "metadata": {},
   "source": [
    "Modify the function `compute_loss(y, tx, w)` for the Mean Absolute Error cost function [here](#compute_loss)"
   ]
  }
 ],
 "metadata": {
  "anaconda-cloud": {},
  "kernelspec": {
   "display_name": "Python 3",
   "language": "python",
   "name": "python3"
  },
  "language_info": {
   "codemirror_mode": {
    "name": "ipython",
    "version": 3
   },
   "file_extension": ".py",
   "mimetype": "text/x-python",
   "name": "python",
   "nbconvert_exporter": "python",
   "pygments_lexer": "ipython3",
   "version": "3.6.5"
  }
 },
 "nbformat": 4,
 "nbformat_minor": 1
}
